{
 "cells": [
  {
   "cell_type": "code",
   "execution_count": 1,
   "id": "37869eff",
   "metadata": {},
   "outputs": [],
   "source": [
    "# 1. In the below elements which of them are values or an expression? eg:- values can be integer or string and expressions will be mathematical operators.\n",
    "# * \n",
    "# 'hello'\n",
    "# -87.8\n",
    "# - \n",
    "# / \n",
    "# +"
   ]
  },
  {
   "cell_type": "code",
   "execution_count": 2,
   "id": "5a476812",
   "metadata": {},
   "outputs": [],
   "source": [
    "# * = Expression\n",
    "# 'hello' = Value\n",
    "# -87.8 = Value\n",
    "# - = Expression\n",
    "# / = Expression\n",
    "# + = Expression"
   ]
  },
  {
   "cell_type": "code",
   "execution_count": 3,
   "id": "b98dbc17",
   "metadata": {},
   "outputs": [],
   "source": [
    "# 2. What is the difference between string and variable?\n",
    "# A Variable is a store of information, and a String is a type of information you would store in a Variable. A String is usually words, enclosed with \"\""
   ]
  },
  {
   "cell_type": "code",
   "execution_count": 4,
   "id": "1d5656bf",
   "metadata": {},
   "outputs": [],
   "source": [
    "# 3. Describe three different data types.\n",
    "# 1) Numeric: It is a datatype which holds numbers of type int, float or complex type.\n",
    "# 2) Boolean: It is a datatype which holds boolean values such as 1(True) or 0(False).\n",
    "# 3) Dictionary: It is a datatype which holds values in a pair of Key and values. Values can be same but keys should be different.\n",
    "# 4) Set: It a datatype which holds unique values only."
   ]
  },
  {
   "cell_type": "code",
   "execution_count": 5,
   "id": "13dc1807",
   "metadata": {},
   "outputs": [],
   "source": [
    "# 4. What is an expression made up of? What do all expressions do?\n",
    "# An expression consists of operators and operand which are interpreted to produce another value. \n",
    "# eg. 2*3 = 6, so 2 & 3 are operands and * is operator and 2*3 is an expression."
   ]
  },
  {
   "cell_type": "code",
   "execution_count": 6,
   "id": "1317a28c",
   "metadata": {},
   "outputs": [],
   "source": [
    "# 5. This assignment statements, like spam = 10. What is the difference between an expression and a statement?\n",
    "# An expression evaluates to a single value. A statement does not.\n",
    "# An assignment statement like, spam = 10 assigns value of 10 to variable spam but an expression produces new value which is result of the operation performed on operands by operator during expression interpretation."
   ]
  },
  {
   "cell_type": "code",
   "execution_count": 7,
   "id": "b45466b0",
   "metadata": {},
   "outputs": [
    {
     "data": {
      "text/plain": [
       "23"
      ]
     },
     "execution_count": 7,
     "metadata": {},
     "output_type": "execute_result"
    }
   ],
   "source": [
    "# 6. After running the following code, what does the variable bacon contain?\n",
    "bacon = 22\n",
    "bacon + 1\n",
    "\n",
    "#The value of variable bacon contain = 23\n"
   ]
  },
  {
   "cell_type": "code",
   "execution_count": 10,
   "id": "ee9e3ebb",
   "metadata": {},
   "outputs": [
    {
     "data": {
      "text/plain": [
       "23"
      ]
     },
     "execution_count": 10,
     "metadata": {},
     "output_type": "execute_result"
    }
   ],
   "source": [
    "bacon = 22\n",
    "bacon + 1"
   ]
  },
  {
   "cell_type": "code",
   "execution_count": 8,
   "id": "902bae03",
   "metadata": {},
   "outputs": [
    {
     "data": {
      "text/plain": [
       "'spamspamspam'"
      ]
     },
     "execution_count": 8,
     "metadata": {},
     "output_type": "execute_result"
    }
   ],
   "source": [
    "# 7. What should the values of the following two terms be?\n",
    "'spam' + 'spamspam'\n",
    "'spam' * 3\n",
    "# The values of the following two terms will be same as 'spamspamspam' i.e. spam 3 times."
   ]
  },
  {
   "cell_type": "code",
   "execution_count": 11,
   "id": "25a9ecc2",
   "metadata": {},
   "outputs": [
    {
     "data": {
      "text/plain": [
       "'spamspamspam'"
      ]
     },
     "execution_count": 11,
     "metadata": {},
     "output_type": "execute_result"
    }
   ],
   "source": [
    "'spam' + 'spamspam'\n",
    "'spam'*3"
   ]
  },
  {
   "cell_type": "code",
   "execution_count": 9,
   "id": "2b75ccaf",
   "metadata": {},
   "outputs": [],
   "source": [
    "# 8. Why is eggs a valid variable name while 100 is invalid?\n",
    "# Variable names in python should never starts with numbers and special characters, if we want to use numbers then variable name should begin with letter then number like eggs100 is valid variable name. "
   ]
  },
  {
   "cell_type": "code",
   "execution_count": 10,
   "id": "6be78139",
   "metadata": {},
   "outputs": [],
   "source": [
    "# 9. What three functions can be used to get the integer, floating-point number, or string version of a value?\n",
    "# Ans: int(), float() and str()."
   ]
  },
  {
   "cell_type": "code",
   "execution_count": 11,
   "id": "b0e366a4",
   "metadata": {},
   "outputs": [],
   "source": [
    "# 10. Why does this expression cause an error? How can you fix it?\n",
    "# 'I have eaten ' + 99 + ' burritos.'\n",
    "# \n",
    "# We trying to add two different data types such as string with integer as 99 is integer, hence we get an error. To fix this this problem we have to change the data types by using typecasting."
   ]
  },
  {
   "cell_type": "code",
   "execution_count": null,
   "id": "ac208835",
   "metadata": {},
   "outputs": [],
   "source": []
  }
 ],
 "metadata": {
  "kernelspec": {
   "display_name": "Python 3 (ipykernel)",
   "language": "python",
   "name": "python3"
  },
  "language_info": {
   "codemirror_mode": {
    "name": "ipython",
    "version": 3
   },
   "file_extension": ".py",
   "mimetype": "text/x-python",
   "name": "python",
   "nbconvert_exporter": "python",
   "pygments_lexer": "ipython3",
   "version": "3.9.12"
  }
 },
 "nbformat": 4,
 "nbformat_minor": 5
}
